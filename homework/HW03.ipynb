{
 "metadata": {
  "name": "",
  "signature": "sha256:22f9b3f055325962840d92eb3e9083adb7cedd2936704e43e3849f8dd9dfe096"
 },
 "nbformat": 3,
 "nbformat_minor": 0,
 "worksheets": [
  {
   "cells": [
    {
     "cell_type": "markdown",
     "metadata": {},
     "source": [
      "A. Noise induced by interpolation\n",
      "---------------------------------\n",
      "\n",
      "Interpolation does not generally yield the ideal result.\n",
      "One way of looking at interpolation errors is with Fourier spectra.\n",
      "\n",
      "In Fourier analysis one regards signals as superpositions of plane waves (i.e. sines and cosines).\n",
      "Given the sampling rate and the length of the signal, we can only compute the amplitudes of a finite sequence of frequencies (and we constructed those frequencies in class for an audio signal).\n",
      "\n",
      "Consider the following function and arrays:"
     ]
    },
    {
     "cell_type": "code",
     "collapsed": false,
     "input": [
      "import numpy as np\n",
      "\n",
      "def func(val):\n",
      "    return np.sin(4*np.pi*val) + np.cos(6*np.pi*val)\n",
      "\n",
      "samples = np.linspace(0, 1, 17, endpoint = False)\n",
      "x = np.linspace(0, 1, 51, endpoint = False)"
     ],
     "language": "python",
     "metadata": {},
     "outputs": [],
     "prompt_number": 1
    },
    {
     "cell_type": "markdown",
     "metadata": {},
     "source": [
      "Compute the value of this function at every point in `samples`.\n",
      "Create an `interpolator` object (using the class we defined in our lectures) from `samples` and the values you have obtained.\n",
      "Afterwards, create 2 more arrays.\n",
      "One which will contain the interpolated values at the points in `x`, and one which will contain the exact values.\n",
      "\n",
      "Compute the Fourier transforms of these 3 arrays (the coarse grained version, the interpolated version, and the exact fine-grained version).\n",
      "Construct the frequencies corresponding to `samples` and `x`, and then plot the power spectra for the 3 arrays (i.e. $|\\hat{f}(k)|^2$ for the various $\\hat{f}$ you get).\n",
      "Use logarithmic scale on the $y$ axis.\n",
      "Discuss the plot."
     ]
    },
    {
     "cell_type": "markdown",
     "metadata": {},
     "source": [
      "B. Dependence on samples\n",
      "------------------------\n",
      "\n",
      "Follow a similar procedure for different numbers of samples: 15, 18, 21, ..., 30.\n",
      "Compare the spectra you obtain by interpolating on the differently sampled data."
     ]
    }
   ],
   "metadata": {}
  }
 ]
}