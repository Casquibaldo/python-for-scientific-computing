{
 "metadata": {
  "name": "",
  "signature": "sha256:d056eb6ec2f70650705e5fbf016e9692691bf43b775d7361297f310ae247c34f"
 },
 "nbformat": 3,
 "nbformat_minor": 0,
 "worksheets": [
  {
   "cells": [
    {
     "cell_type": "markdown",
     "metadata": {},
     "source": [
      "A. Fibonacci series\n",
      "-------------------\n",
      "\n",
      "The Fibonacci series is defined as follows:\n",
      "\n",
      "\\begin{align}\n",
      "    x_0 &= 1 \\\\\n",
      "    x_1 &= 1 \\\\\n",
      "    x_n &= x_{n-2} + x_{n-1} \\ \\forall n \\geq 2\n",
      "\\end{align}\n",
      "\n",
      "1. Define a function that returns the $n$-th Fibonacci number. Discuss what happens when $n$ gets big enough. By the way, your code should give an approximate result even for big $n$.\n",
      "2. Define a function that returns the last 4 digits of the $n$-th Fibonacci number, no matter how big $n$ is."
     ]
    },
    {
     "cell_type": "markdown",
     "metadata": {},
     "source": [
      "B. Eigenvalues\n",
      "--------------\n",
      "\n",
      "To get the eigenvalues of a $2 \\times 2$ matrix, you need to solve the following equation (with the unknown $\\lambda$):\n",
      "\n",
      "\\begin{equation}\n",
      "    \\det(A - \\lambda I) = 0\n",
      "\\end{equation}\n",
      "\n",
      "Write a program that finds the eigenvalues for an arbitrary $2 \\times 2$ matrix."
     ]
    },
    {
     "cell_type": "markdown",
     "metadata": {},
     "source": [
      "C. Area of a triangle\n",
      "---------------------\n",
      "\n",
      "Given 3 points $A$, $B$ and $C$ in the plane, with their coordinates $(a_x, a_y)$ $(b_x, b_y)$ $(c_x, c_y)$, the area of the triangle they form is given by the following formula:\n",
      "\\begin{equation}\n",
      "    \\frac{1}{2} \\left| \\det \\left(\n",
      "        \\begin{aligned}\n",
      "            a_x && a_y && 1 \\\\\n",
      "            b_x && b_y && 1 \\\\\n",
      "            c_x && c_y && 1\n",
      "        \\end{aligned}\n",
      "    \\right) \\right|\n",
      "\\end{equation}\n",
      "\n",
      "Write a subroutine that will take as parameters three lists of 2 values, `A`, `B` and `C`, and will return the area of the triangle that the corresponding 3 points on a plane form."
     ]
    },
    {
     "cell_type": "markdown",
     "metadata": {},
     "source": [
      "D. Kahan summation formula\n",
      "--------------------------\n",
      "\n",
      "Given a list of arbitrary numbers, write a simple function to sum the elements of that list.\n",
      "Write a second function, using the algorithm by Kahan, (https://en.wikipedia.org/wiki/Kahan_summation_algorithm has a very nice description).\n",
      "\n",
      "Use the function defined in the following cell to generate a list of $N$ numbers to feed into the 2 functions you've defined.\n",
      "Compare the results obtained with the two functions for $N = 3^k$, for all $k \\leq 13$."
     ]
    },
    {
     "cell_type": "code",
     "collapsed": false,
     "input": [
      "import numpy as np\n",
      "def get_numbers(N):\n",
      "    return np.random.randn(N)"
     ],
     "language": "python",
     "metadata": {},
     "outputs": []
    }
   ],
   "metadata": {}
  }
 ]
}