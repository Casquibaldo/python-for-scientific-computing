{
 "metadata": {
  "name": "",
  "signature": "sha256:523815cc327ebd8e0ff0beeed62d79d56599b9068fbb6d40150226cbbfd7356a"
 },
 "nbformat": 3,
 "nbformat_minor": 0,
 "worksheets": [
  {
   "cells": [
    {
     "cell_type": "markdown",
     "metadata": {},
     "source": [
      "A. Fibonacci series\n",
      "-------------------\n",
      "\n",
      "The Fibonacci series is defined as follows:\n",
      "\n",
      "\\begin{align}\n",
      "    x_0 &= 1 \\\\\n",
      "    x_1 &= 1 \\\\\n",
      "    x_n &= x_{n-2} + x_{n-1} \\ \\forall n \\geq 2\n",
      "\\end{align}\n",
      "\n",
      "1. Define a function that returns the $n$-th Fibonacci number. Discuss what happens when $n$ gets big enough. By the way, your code should give an approximate result even for big $n$.\n",
      "2. Define a function that returns the last 4 digits of the $n$-th Fibonacci number, no matter how big $n$ is."
     ]
    },
    {
     "cell_type": "code",
     "collapsed": false,
     "input": [
      "#store the golden ratio\n",
      "GoldenRatio = (1+(5)**(0.5))/2\n",
      "\n",
      "def FibonacciNumber(n):\n",
      "    # we're returning an integer, but computed from a floating point number\n",
      "    return int((GoldenRatio**n - (-GoldenRatio)**(-n))/(5)**(0.5))\n",
      "\n",
      "def findLastFourDigitsOfNthFibonacciNumber(n):\n",
      "    if n == 0:\n",
      "        return 0\n",
      "    else:\n",
      "        f0 = 0\n",
      "        f1 = 1\n",
      "        for k in range(1, n):\n",
      "            # since we only need the last 4 digits,\n",
      "            # and we're only doing sums, we can safely\n",
      "            # limit ourselves to modulo 10000 arithmetic\n",
      "            f = (f0 + f1) % 10000\n",
      "            f0 = f1\n",
      "            f1 = f\n",
      "        return f\n",
      "# NOTE: computing all the Fibonacci numbers modulo 10000 means that\n",
      "# we avoid using Python's \"long integer\" type, which is slow.\n",
      "# It is true that \"long integer\" allows arbitrary precision integer\n",
      "# computations, but they're slow...\n",
      "    \n",
      "# for small enough n, we can safely use the floating point\n",
      "# approximation\n",
      "print FibonacciNumber(50)\n",
      "print FibonacciNumber(51)\n",
      "print findLastFourDigitsOfNthFibonacciNumber(50)\n",
      "print findLastFourDigitsOfNthFibonacciNumber(51)\n",
      "\n",
      "# for large n, the floating point approximation fails to compute\n",
      "# the last digits (which is perfectly natural, taking into account \n",
      "# the definition of floating point numers)\n",
      "print FibonacciNumber(100)\n",
      "print FibonacciNumber(101)\n",
      "print findLastFourDigitsOfNthFibonacciNumber(100)\n",
      "print findLastFourDigitsOfNthFibonacciNumber(101)"
     ],
     "language": "python",
     "metadata": {},
     "outputs": [
      {
       "output_type": "stream",
       "stream": "stdout",
       "text": [
        "12586269025\n",
        "20365011074\n",
        "9025\n",
        "1074\n",
        "354224848179263111168\n",
        "573147844013818970112\n",
        "5075\n",
        "4101\n"
       ]
      }
     ],
     "prompt_number": 6
    },
    {
     "cell_type": "markdown",
     "metadata": {},
     "source": [
      "B. Eigenvalues\n",
      "--------------\n",
      "\n",
      "To get the eigenvalues of a $2 \\times 2$ matrix, you need to solve the following equation (with the unknown $\\lambda$):\n",
      "\n",
      "\\begin{equation}\n",
      "    \\det(A - \\lambda I) = 0\n",
      "\\end{equation}\n",
      "\n",
      "Write a program that finds the eigenvalues for an arbitrary $2 \\times 2$ matrix."
     ]
    },
    {
     "cell_type": "code",
     "collapsed": false,
     "input": [
      "def get2x2Determinant(M):\n",
      "    detM = M[0][0]*M[1][1] - M[0][1]*M[1][0]\n",
      "    return detM\n",
      "    \n",
      "def get2x2Trace(M):\n",
      "    trM = M[0][0]+M[1][1]\n",
      "    return trM\n",
      "\n",
      "def SolveQuadratic(a = 1, b = 1, c = 1):\n",
      "    Delta = (b**2 - 4*a*c)\n",
      "    if Delta >= 0:\n",
      "        Root1 = (-b + Delta**(.5))/2*a\n",
      "        Root2 = (-b - Delta**(.5))/2*a\n",
      "    else:\n",
      "        # \"1j\" is square root of -1 in Python\n",
      "        Root1 = (-b + 1j*(-Delta)**(.5))/2*a\n",
      "        Root2 = (-b - 1j*(-Delta)**(.5))/2*a\n",
      "    return Root1, Root2\n",
      "\n",
      "def eigenvalues(M):\n",
      "    lambda1, lambda2 = SolveQuadratic(1, -get2x2Trace(M), get2x2Determinant(M))\n",
      "    return lambda1, lambda2\n",
      "\n",
      "# I have made use of the formula \u03bb^2 - tr(A)\u03bb + det(A) = 0 for 2x2 (ONLY!) matrices A \n",
      "# You can find the above formula for the characteristic polynomial\n",
      "# on http://en.wikipedia.org/wiki/Characteristic_polynomial\n",
      "    \n",
      "print eigenvalues([[1,1],[2,3]])\n",
      "print eigenvalues([[1,4],[-5,0]])"
     ],
     "language": "python",
     "metadata": {},
     "outputs": [
      {
       "output_type": "stream",
       "stream": "stdout",
       "text": [
        "(3.732050807568877, 0.2679491924311228)\n",
        "((0.5+4.444097208657794j), (0.5-4.444097208657794j))\n"
       ]
      }
     ],
     "prompt_number": 10
    },
    {
     "cell_type": "markdown",
     "metadata": {},
     "source": [
      "C. Area of a triangle\n",
      "---------------------\n",
      "\n",
      "Given 3 points $A$, $B$ and $C$ in the plane, with their coordinates $(a_x, a_y)$ $(b_x, b_y)$ $(c_x, c_y)$, the area of the triangle they form is given by the following formula:\n",
      "\\begin{equation}\n",
      "    \\frac{1}{2} \\left| \\det \\left(\n",
      "        \\begin{aligned}\n",
      "            a_x && a_y && 1 \\\\\n",
      "            b_x && b_y && 1 \\\\\n",
      "            c_x && c_y && 1\n",
      "        \\end{aligned}\n",
      "    \\right) \\right|\n",
      "\\end{equation}\n",
      "\n",
      "Write a subroutine that will take as parameters three lists of 2 values, `A`, `B` and `C`, and will return the area of the triangle that the corresponding 3 points on a plane form."
     ]
    },
    {
     "cell_type": "code",
     "collapsed": false,
     "input": [
      "def getDeterminant(M):\n",
      "    detM = (M[0][0]*(M[1][1]*M[2][2] - M[2][1]*M[1][2]) -\n",
      "            M[1][0]*(M[0][1]*M[2][2] - M[0][2]*M[2][1]) +\n",
      "            M[2][0]*(M[0][1]*M[1][2] - M[0][2]*M[1][1]))\n",
      "    return detM\n",
      "    \n",
      "def area(x,y,z):\n",
      "    x = x + [1]\n",
      "    y = y + [1]\n",
      "    z = z + [1]\n",
      "    detM = getDeterminant([x,y,z])\n",
      "    areaofTriangle = 0.5*abs(detM)\n",
      "    return areaofTriangle\n",
      "\n",
      "print area([0,-3],[6,0],[-4,4])"
     ],
     "language": "python",
     "metadata": {},
     "outputs": [
      {
       "output_type": "stream",
       "stream": "stdout",
       "text": [
        "27.0\n"
       ]
      }
     ],
     "prompt_number": 15
    },
    {
     "cell_type": "markdown",
     "metadata": {},
     "source": [
      "D. Kahan summation formula\n",
      "--------------------------\n",
      "\n",
      "Given a list of arbitrary numbers, write a simple function to sum the elements of that list.\n",
      "Write a second function, using the algorithm by Kahan, (https://en.wikipedia.org/wiki/Kahan_summation_algorithm has a very nice description).\n",
      "\n",
      "Use the function defined in the following cell to generate a list of $N$ numbers to feed into the 2 functions you've defined.\n",
      "Compare the results obtained with the two functions for $N = 3^k$, for all $k \\leq 13$."
     ]
    },
    {
     "cell_type": "code",
     "collapsed": false,
     "input": [
      "import numpy as np\n",
      "def get_numbers(N):\n",
      "    return np.random.randn(N)\n",
      "\n",
      "def sumElementsofList(inputarray):\n",
      "    s = 0\n",
      "    for i in range(len(inputarray)):\n",
      "        s += inputarray[i]\n",
      "    return s\n",
      "        \n",
      "def KahanSummation(inputarray):\n",
      "    s = 0\n",
      "    c = 0\n",
      "    for i in inputarray:\n",
      "        y = i - c\n",
      "        t = s + y\n",
      "        c = (t-s) - y\n",
      "        s = t\n",
      "    return s\n",
      "\n",
      "def DifferenceInTechniques(N):\n",
      "    fixedarray = get_numbers(N)\n",
      "    diff = KahanSummation(fixedarray) - sumElementsofList(fixedarray)\n",
      "    return diff"
     ],
     "language": "python",
     "metadata": {},
     "outputs": [],
     "prompt_number": 17
    },
    {
     "cell_type": "code",
     "collapsed": false,
     "input": [
      "for k in range(13):\n",
      "    print DifferenceInTechniques(3**k)"
     ],
     "language": "python",
     "metadata": {},
     "outputs": [
      {
       "output_type": "stream",
       "stream": "stdout",
       "text": [
        "0.0\n",
        "0.0\n",
        "-4.4408920985e-16\n",
        "0.0\n",
        "-8.881784197e-16\n",
        "-1.7763568394e-15\n",
        "-1.7763568394e-14\n",
        "-4.26325641456e-14\n",
        "-1.27897692437e-13\n",
        "-4.83169060317e-13\n",
        "-3.12638803734e-12"
       ]
      },
      {
       "output_type": "stream",
       "stream": "stdout",
       "text": [
        "\n",
        "-2.01794136956e-12"
       ]
      },
      {
       "output_type": "stream",
       "stream": "stdout",
       "text": [
        "\n",
        "-1.13686837722e-12"
       ]
      },
      {
       "output_type": "stream",
       "stream": "stdout",
       "text": [
        "\n"
       ]
      }
     ],
     "prompt_number": 18
    },
    {
     "cell_type": "code",
     "collapsed": false,
     "input": [
      "# as we sum over more and more points,\n",
      "# a difference between the two versions grows."
     ],
     "language": "python",
     "metadata": {},
     "outputs": []
    }
   ],
   "metadata": {}
  }
 ]
}