{
 "metadata": {
  "name": "",
  "signature": "sha256:c6917fbb3e0aff728d72870e88feefd0a1b3cbb6522d121003167d741ce4cab4"
 },
 "nbformat": 3,
 "nbformat_minor": 0,
 "worksheets": [
  {
   "cells": [
    {
     "cell_type": "markdown",
     "metadata": {},
     "source": [
      "A. In class, you saw how we can visualize better and better approximations of the (bounded) set $M \\subset \\mathbb{C}$ such that $f_c^n(0) \\in M$ for all $n \\in \\mathbb{N}$, for all $c \\in M$, where\n",
      "\\begin{equation}\n",
      "    f_c: \\mathbb{C} \\rightarrow {\\mathbb{C}}, f_c(z) = z^2 + c\n",
      "\\end{equation}\n",
      "\n",
      "Please write a code to visualize better and better approximations of $J_c$, where $J_c$ is the biggest set such that $J_c = f_c(J_c)$ and $J_c \\neq \\mathbb{C}$.\n",
      "\n",
      "Generate 3 of these visualisations, for some randomly chosen $c$ from within the circle of radius 2 centered on the origin (of the complex plane).\n",
      "\n",
      "Note: while the notation $J_c$ is used here, the set denoted is technically a \"filled Julia set\", not just a Julia set. If you are interested in some of the mathematical background, the Wikipedia pages on the subject are as good as any online resource:\n",
      "\n",
      "https://en.wikipedia.org/wiki/Filled_Julia_set\n",
      "\n",
      "https://en.wikipedia.org/wiki/Julia_set"
     ]
    },
    {
     "cell_type": "markdown",
     "metadata": {},
     "source": [
      "B. Write a function that has the following prototype:"
     ]
    },
    {
     "cell_type": "code",
     "collapsed": false,
     "input": [
      "def Mandelbrot(xmin, xmax, nx, ymin, ymax, ny, max_level):\n",
      "    return iterations"
     ],
     "language": "python",
     "metadata": {},
     "outputs": [],
     "prompt_number": 1
    },
    {
     "cell_type": "markdown",
     "metadata": {},
     "source": [
      "This function should be a generalization of the function we defined in class, that plot the various level sets for a generic rectangle in the complex plane, with arbitrary resolutions on each axis.\n",
      "\n",
      "Call this function three times:\n",
      "\n",
      "    Mandelbrot(-2, 1, 128, -1.5, 1.5, 128, 40)\n",
      "    Mandelbrot(-1.8, -1.74, 128, -0.03, 0.03, 128, 80)\n",
      "    Mandelbrot(0.4150, 0.4156, 128, 0.3105, 0.3111, 128, 200)\n",
      "    \n",
      "Note: if you want to play with this set some more, feel free to download the `fraqtive` tool, available at http://fraqtive.mimec.org/"
     ]
    }
   ],
   "metadata": {}
  }
 ]
}