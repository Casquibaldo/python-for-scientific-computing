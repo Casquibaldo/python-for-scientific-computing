{
 "metadata": {
  "name": "",
  "signature": "sha256:3b3e900f8d18695ad9ca648e296ca5137abab0392f31b2efd5bf40f137cf99e6"
 },
 "nbformat": 3,
 "nbformat_minor": 0,
 "worksheets": [
  {
   "cells": [
    {
     "cell_type": "code",
     "collapsed": false,
     "input": [
      "print 'Hello World'\n",
      "print type('Hello World')"
     ],
     "language": "python",
     "metadata": {},
     "outputs": [
      {
       "output_type": "stream",
       "stream": "stdout",
       "text": [
        "Hello World\n",
        "<type 'str'>\n"
       ]
      }
     ],
     "prompt_number": 15
    },
    {
     "cell_type": "code",
     "collapsed": false,
     "input": [
      "print 1/3\n",
      "print 1./3\n",
      "print 2./3"
     ],
     "language": "python",
     "metadata": {},
     "outputs": [
      {
       "output_type": "stream",
       "stream": "stdout",
       "text": [
        "0\n",
        "0.333333333333\n",
        "0.666666666667\n"
       ]
      }
     ],
     "prompt_number": 8
    },
    {
     "cell_type": "code",
     "collapsed": false,
     "input": [
      "x = 2./3\n",
      "y = 2/3\n",
      "print x,y\n",
      "print type(x), type(y)"
     ],
     "language": "python",
     "metadata": {},
     "outputs": [
      {
       "output_type": "stream",
       "stream": "stdout",
       "text": [
        "0.666666666667 0\n",
        "<type 'float'> <type 'int'>\n"
       ]
      }
     ],
     "prompt_number": 13
    },
    {
     "cell_type": "code",
     "collapsed": false,
     "input": [
      "def gcd(a,b):\n",
      "    while b != 0:\n",
      "       t = b\n",
      "       b = a % b\n",
      "       a = t\n",
      "       print '{0} {2} {1}'.format(b,b**2,b**3)\n",
      "    return a\n",
      "\n",
      "def lcm(a,b):\n",
      "    l = abs(a*b)/gcd(a,b)\n",
      "    return l\n",
      "\n",
      "def pair(a,b):\n",
      "    print(gcd(a,b),lcm(a,b))\n",
      "    \n",
      "pair(49,21)"
     ],
     "language": "python",
     "metadata": {},
     "outputs": [
      {
       "output_type": "stream",
       "stream": "stdout",
       "text": [
        "7 343 49\n",
        "0 0 0\n",
        "7 343 49\n",
        "0 0 0\n",
        "(7, 147)\n"
       ]
      }
     ],
     "prompt_number": 22
    },
    {
     "cell_type": "code",
     "collapsed": false,
     "input": [],
     "language": "python",
     "metadata": {},
     "outputs": []
    }
   ],
   "metadata": {}
  }
 ]
}