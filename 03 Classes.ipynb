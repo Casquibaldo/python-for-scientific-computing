{
 "metadata": {
  "name": "",
  "signature": "sha256:f04d671afb3ba919ba6c670d5b2e4d1d825944ecace307f1a94dd5a1461a8206"
 },
 "nbformat": 3,
 "nbformat_minor": 0,
 "worksheets": [
  {
   "cells": [
    {
     "cell_type": "code",
     "collapsed": false,
     "input": [
      "type(1.0)"
     ],
     "language": "python",
     "metadata": {},
     "outputs": [
      {
       "metadata": {},
       "output_type": "pyout",
       "prompt_number": 1,
       "text": [
        "float"
       ]
      }
     ],
     "prompt_number": 1
    },
    {
     "cell_type": "code",
     "collapsed": false,
     "input": [
      "class root_finder:\n",
      "    def __init__(self, f, epsilon):\n",
      "        self.f = f\n",
      "        self.e = epsilon\n",
      "        return None\n",
      "    def bisect(self, a, b):\n",
      "        print self.e\n",
      "        return None\n",
      "    \n",
      "def func(x):\n",
      "    return x**2-1\n",
      "\n",
      "a = root_finder(func, 0.1)\n",
      "b = root_finder(func, 0.01)\n",
      "a.bisect(0, 3)\n",
      "b.bisect(0, 3)"
     ],
     "language": "python",
     "metadata": {},
     "outputs": [
      {
       "output_type": "stream",
       "stream": "stdout",
       "text": [
        "0.1\n",
        "0.01\n"
       ]
      }
     ],
     "prompt_number": 8
    },
    {
     "cell_type": "code",
     "collapsed": false,
     "input": [
      "a = 1\n",
      "b = float('1')\n",
      "print type(a)\n",
      "print type(b)"
     ],
     "language": "python",
     "metadata": {},
     "outputs": [
      {
       "output_type": "stream",
       "stream": "stdout",
       "text": [
        "<type 'int'>\n",
        "<type 'float'>\n"
       ]
      }
     ],
     "prompt_number": 11
    },
    {
     "cell_type": "code",
     "collapsed": false,
     "input": [
      "def func(x):\n",
      "    return x**2-2.**0.3\n",
      "\n",
      "%matplotlib inline\n",
      "import numpy as np\n",
      "import matplotlib.pyplot as plt\n",
      "\n",
      "ax = plt.figure(figsize=(6,6)).add_subplot(111)\n",
      "x = np.linspace(-.5, 2, 2**8)\n",
      "ax.plot(x, func(x))\n",
      "ax.plot(x, x - x, color = 'black', dashes = (1,1))"
     ],
     "language": "python",
     "metadata": {},
     "outputs": [
      {
       "metadata": {},
       "output_type": "pyout",
       "prompt_number": 18,
       "text": [
        "[<matplotlib.lines.Line2D at 0x7f4d33185250>]"
       ]
      },
      {
       "metadata": {},
       "output_type": "display_data",
       "png": "[encoded data removed]",
       "text": [
        "<matplotlib.figure.Figure at 0x7f4d34ba8150>"
       ]
      }
     ],
     "prompt_number": 18
    },
    {
     "cell_type": "code",
     "collapsed": false,
     "input": [
      "class root_finder:\n",
      "    def __init__(self, f, epsilon):\n",
      "        self.f = f\n",
      "        self.e = epsilon\n",
      "        return None\n",
      "    def bisect(self, a, b):\n",
      "        fa = self.f(a)\n",
      "        fb = self.f(b)\n",
      "        if fa*fb >= 0:\n",
      "            return a\n",
      "        c = (a + b) * 0.5\n",
      "        i = 0\n",
      "        while (abs(b - a) >= self.e):\n",
      "            fc = self.f(c)\n",
      "            if (fc * fb <= 0):\n",
      "                a = c\n",
      "            else:\n",
      "                b = c\n",
      "            c = (a + b) * 0.5\n",
      "            i = i + 1\n",
      "        print 'in bisect there were {0} loops'.format(i)\n",
      "        return c\n",
      "    def secant(self, a, b):\n",
      "        fa = self.f(a)\n",
      "        fb = self.f(b)\n",
      "        if fa*fb >= 0:\n",
      "            return a\n",
      "        c0 = a\n",
      "        c1 = b\n",
      "        c = (a+b)*.5\n",
      "        i = 0\n",
      "        while (abs(b - a) >= self.e):\n",
      "            fc = self.f(c)\n",
      "            c = c - fc * (c0 - c1) / (self.f(c0) - self.f(c1))\n",
      "            if (fc * fb <= 0):\n",
      "                a = c\n",
      "            else:\n",
      "                b = c\n",
      "            c0 = c1\n",
      "            c1 = c\n",
      "            i = i + 1\n",
      "        print 'in secant there were {0} loops'.format(i)\n",
      "        return c\n",
      "\n",
      "\n",
      "a = root_finder(func, 0.001)\n",
      "b = root_finder(func, 0.0001)\n",
      "c0 = a.bisect(0, 3)\n",
      "c1 = b.bisect(0, 3)\n",
      "c2 = a.secant(0, 3)\n",
      "c3 = b.secant(0, 3)\n",
      "print c0, c1\n",
      "print func(c0), func(c1)"
     ],
     "language": "python",
     "metadata": {},
     "outputs": [
      {
       "output_type": "stream",
       "stream": "stdout",
       "text": [
        "in bisect there were 12 loops\n",
        "in bisect there were 15 loops\n",
        "in secant there were 8 loops\n",
        "in secant there were 8 loops\n",
        "1.10925292969 1.10957336426\n",
        "-0.000702351324614 8.63732548395e-06\n"
       ]
      }
     ],
     "prompt_number": 46
    },
    {
     "cell_type": "code",
     "collapsed": false,
     "input": [
      "%matplotlib inline\n",
      "import numpy as np\n",
      "import matplotlib.pyplot as plt\n",
      "\n",
      "ax = plt.figure(figsize=(6,6)).add_subplot(111)\n",
      "x = np.linspace(-.5, 2, 2**8)\n",
      "ax.plot(x, func(x))\n",
      "ax.plot(x, x - x, color = 'black', dashes = (1,1))\n",
      "ax.plot(np.ones(x.shape, x.dtype)*c0, func(x), color = 'magenta')\n",
      "ax.plot(np.ones(x.shape, x.dtype)*c1, func(x), color = 'cyan')"
     ],
     "language": "python",
     "metadata": {},
     "outputs": [
      {
       "metadata": {},
       "output_type": "pyout",
       "prompt_number": 39,
       "text": [
        "[<matplotlib.lines.Line2D at 0x7f4d32d7bb10>]"
       ]
      },
      {
       "metadata": {},
       "output_type": "display_data",
       "png": "[encoded data removed]",
       "text": [
        "<matplotlib.figure.Figure at 0x7f4d32e5cfd0>"
       ]
      }
     ],
     "prompt_number": 39
    },
    {
     "cell_type": "code",
     "collapsed": false,
     "input": [],
     "language": "python",
     "metadata": {},
     "outputs": []
    }
   ],
   "metadata": {}
  }
 ]
}