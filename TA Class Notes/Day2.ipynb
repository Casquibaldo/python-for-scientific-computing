{
 "metadata": {
  "name": "",
  "signature": "sha256:9c81a4e5bc03c40ceff9f6a0f82bd2512e08e4e28c889f1729423a0a8f47c162"
 },
 "nbformat": 3,
 "nbformat_minor": 0,
 "worksheets": [
  {
   "cells": [
    {
     "cell_type": "code",
     "collapsed": false,
     "input": [
      "print 'good morning'"
     ],
     "language": "python",
     "metadata": {},
     "outputs": [
      {
       "output_type": "stream",
       "stream": "stdout",
       "text": [
        "good morning\n"
       ]
      }
     ],
     "prompt_number": 1
    },
    {
     "cell_type": "code",
     "collapsed": false,
     "input": [
      "print 1+1"
     ],
     "language": "python",
     "metadata": {},
     "outputs": [
      {
       "output_type": "stream",
       "stream": "stdout",
       "text": [
        "2\n"
       ]
      }
     ],
     "prompt_number": 6
    },
    {
     "cell_type": "code",
     "collapsed": false,
     "input": [
      "# in python 2 division between integers is integer division\n",
      "#this is different from python 3\n",
      "print 1/2"
     ],
     "language": "python",
     "metadata": {},
     "outputs": [
      {
       "output_type": "stream",
       "stream": "stdout",
       "text": [
        "0\n"
       ]
      }
     ],
     "prompt_number": 5
    },
    {
     "cell_type": "code",
     "collapsed": false,
     "input": [
      "print 3*4"
     ],
     "language": "python",
     "metadata": {},
     "outputs": [
      {
       "output_type": "stream",
       "stream": "stdout",
       "text": [
        "12\n"
       ]
      }
     ],
     "prompt_number": 7
    },
    {
     "cell_type": "code",
     "collapsed": false,
     "input": [
      "print 3**4"
     ],
     "language": "python",
     "metadata": {},
     "outputs": [
      {
       "output_type": "stream",
       "stream": "stdout",
       "text": [
        "81\n"
       ]
      }
     ],
     "prompt_number": 8
    },
    {
     "cell_type": "code",
     "collapsed": false,
     "input": [
      "print 3**0.5"
     ],
     "language": "python",
     "metadata": {},
     "outputs": [
      {
       "output_type": "stream",
       "stream": "stdout",
       "text": [
        "1.73205080757\n"
       ]
      }
     ],
     "prompt_number": 12
    },
    {
     "cell_type": "code",
     "collapsed": false,
     "input": [
      "3**(-1)"
     ],
     "language": "python",
     "metadata": {},
     "outputs": [
      {
       "metadata": {},
       "output_type": "pyout",
       "prompt_number": 13,
       "text": [
        "0.3333333333333333"
       ]
      }
     ],
     "prompt_number": 13
    },
    {
     "cell_type": "code",
     "collapsed": false,
     "input": [
      "(42593*234/2344)**(34+5-2345**0.3)"
     ],
     "language": "python",
     "metadata": {},
     "outputs": [
      {
       "metadata": {},
       "output_type": "pyout",
       "prompt_number": 16,
       "text": [
        "1.9711868889766472e+104"
       ]
      }
     ],
     "prompt_number": 16
    },
    {
     "cell_type": "code",
     "collapsed": false,
     "input": [
      "#due to error in binary represenation, the below calculation is not zero! \n",
      "#For floating point, the error is on the order of 10^(-15).  \n",
      "#It is safe to assume that the first 15 digits of the number are ok.\n",
      "\n",
      "0.1 + 0.1 + 0.1 + 0.1 + 0.1 + 0.1 + 0.1 + 0.1 + 0.1 + 0.1 -1"
     ],
     "language": "python",
     "metadata": {},
     "outputs": [
      {
       "metadata": {},
       "output_type": "pyout",
       "prompt_number": 24,
       "text": [
        "-1.1102230246251565e-16"
       ]
      }
     ],
     "prompt_number": 24
    },
    {
     "cell_type": "code",
     "collapsed": false,
     "input": [
      "#You cannot check if these quantities are equal, only that they differ by an acceptable error\n",
      "0.1 + 0.1 + 0.1 + 0.1 + 0.1 + 0.1 + 0.1 + 0.1 + 0.1 + 0.1 == 1."
     ],
     "language": "python",
     "metadata": {},
     "outputs": [
      {
       "metadata": {},
       "output_type": "pyout",
       "prompt_number": 26,
       "text": [
        "False"
       ]
      }
     ],
     "prompt_number": 26
    },
    {
     "cell_type": "code",
     "collapsed": false,
     "input": [
      "#Variable is a name we associate with certain data.  There are different data types.\n",
      "\n",
      "a = 0.1\n",
      "b = 1\n",
      "a + a + a + a + a + a + a + a + a + a == b\n",
      "\n",
      "#Useful because it is easy to chance the value of the variable \"b\""
     ],
     "language": "python",
     "metadata": {},
     "outputs": [
      {
       "metadata": {},
       "output_type": "pyout",
       "prompt_number": 30,
       "text": [
        "False"
       ]
      }
     ],
     "prompt_number": 30
    },
    {
     "cell_type": "code",
     "collapsed": false,
     "input": [
      "s = 'hello'\n",
      "b = 'Billy'\n",
      "c = 'Becky'\n",
      "print s + ' ' + b\n",
      "print s + ' ' + c"
     ],
     "language": "python",
     "metadata": {},
     "outputs": [
      {
       "output_type": "stream",
       "stream": "stdout",
       "text": [
        "hello Billy\n",
        "hello Becky\n"
       ]
      }
     ],
     "prompt_number": 31
    },
    {
     "cell_type": "code",
     "collapsed": false,
     "input": [
      "#Cannot do mathematical operations with strings.  Certain operations can only be applied to specific data types\n",
      "s**b"
     ],
     "language": "python",
     "metadata": {},
     "outputs": [
      {
       "ename": "TypeError",
       "evalue": "unsupported operand type(s) for ** or pow(): 'str' and 'str'",
       "output_type": "pyerr",
       "traceback": [
        "\u001b[0;31m---------------------------------------------------------------------------\u001b[0m\n\u001b[0;31mTypeError\u001b[0m                                 Traceback (most recent call last)",
        "\u001b[0;32m<ipython-input-33-aef39e91343c>\u001b[0m in \u001b[0;36m<module>\u001b[0;34m()\u001b[0m\n\u001b[1;32m      1\u001b[0m \u001b[0;31m#Cannot do mathematical operations with strings.  Certain operations can only be applied to specific data types\u001b[0m\u001b[0;34m\u001b[0m\u001b[0;34m\u001b[0m\u001b[0m\n\u001b[0;32m----> 2\u001b[0;31m \u001b[0ms\u001b[0m\u001b[0;34m**\u001b[0m\u001b[0mb\u001b[0m\u001b[0;34m\u001b[0m\u001b[0m\n\u001b[0m",
        "\u001b[0;31mTypeError\u001b[0m: unsupported operand type(s) for ** or pow(): 'str' and 'str'"
       ]
      }
     ],
     "prompt_number": 33
    },
    {
     "cell_type": "code",
     "collapsed": false,
     "input": [
      "#Strings can have different length\n",
      "\n",
      "s = 'Hello'\n",
      "#variable names can only begin with letters but they can contain numbers, i.e. no 1s but s1 is ok\n",
      "s1 = 'Good evening'\n",
      "\n",
      "type(s)"
     ],
     "language": "python",
     "metadata": {},
     "outputs": [
      {
       "metadata": {},
       "output_type": "pyout",
       "prompt_number": 35,
       "text": [
        "str"
       ]
      }
     ],
     "prompt_number": 35
    },
    {
     "cell_type": "code",
     "collapsed": false,
     "input": [
      "len(s)"
     ],
     "language": "python",
     "metadata": {},
     "outputs": [
      {
       "metadata": {},
       "output_type": "pyout",
       "prompt_number": 36,
       "text": [
        "5"
       ]
      }
     ],
     "prompt_number": 36
    },
    {
     "cell_type": "code",
     "collapsed": false,
     "input": [
      "len(s1)"
     ],
     "language": "python",
     "metadata": {},
     "outputs": [
      {
       "metadata": {},
       "output_type": "pyout",
       "prompt_number": 37,
       "text": [
        "12"
       ]
      }
     ],
     "prompt_number": 37
    },
    {
     "cell_type": "code",
     "collapsed": false,
     "input": [
      "len(0.1)"
     ],
     "language": "python",
     "metadata": {},
     "outputs": [
      {
       "ename": "TypeError",
       "evalue": "object of type 'float' has no len()",
       "output_type": "pyerr",
       "traceback": [
        "\u001b[0;31m---------------------------------------------------------------------------\u001b[0m\n\u001b[0;31mTypeError\u001b[0m                                 Traceback (most recent call last)",
        "\u001b[0;32m<ipython-input-38-aa248e472f7f>\u001b[0m in \u001b[0;36m<module>\u001b[0;34m()\u001b[0m\n\u001b[0;32m----> 1\u001b[0;31m \u001b[0mlen\u001b[0m\u001b[0;34m(\u001b[0m\u001b[0;36m0.1\u001b[0m\u001b[0;34m)\u001b[0m\u001b[0;34m\u001b[0m\u001b[0m\n\u001b[0m",
        "\u001b[0;31mTypeError\u001b[0m: object of type 'float' has no len()"
       ]
      }
     ],
     "prompt_number": 38
    },
    {
     "cell_type": "code",
     "collapsed": false,
     "input": [
      "#with strings, one can access individual characters\n",
      "print s[0], ' some intermediary text', s[1], s[2], s[3], s[4]\n",
      "#we can think of strings as lists though this is not strictly true\n",
      "#it is often useful in programming to store a bunch of objects in lists"
     ],
     "language": "python",
     "metadata": {},
     "outputs": [
      {
       "output_type": "stream",
       "stream": "stdout",
       "text": [
        "H  some intermediary text e l l o\n"
       ]
      }
     ],
     "prompt_number": 40
    },
    {
     "cell_type": "code",
     "collapsed": false,
     "input": [
      "0.1[0]"
     ],
     "language": "python",
     "metadata": {},
     "outputs": [
      {
       "ename": "TypeError",
       "evalue": "'float' object has no attribute '__getitem__'",
       "output_type": "pyerr",
       "traceback": [
        "\u001b[0;31m---------------------------------------------------------------------------\u001b[0m\n\u001b[0;31mTypeError\u001b[0m                                 Traceback (most recent call last)",
        "\u001b[0;32m<ipython-input-41-7b21dae25b70>\u001b[0m in \u001b[0;36m<module>\u001b[0;34m()\u001b[0m\n\u001b[0;32m----> 1\u001b[0;31m \u001b[0;36m0.1\u001b[0m\u001b[0;34m[\u001b[0m\u001b[0;36m0\u001b[0m\u001b[0;34m]\u001b[0m\u001b[0;34m\u001b[0m\u001b[0m\n\u001b[0m",
        "\u001b[0;31mTypeError\u001b[0m: 'float' object has no attribute '__getitem__'"
       ]
      }
     ],
     "prompt_number": 41
    },
    {
     "cell_type": "code",
     "collapsed": false,
     "input": [
      "#LISTS\n",
      "\n",
      "l = [0.1,0.2,0.3]\n",
      "print type(l)\n",
      "#List indicies start at 0 in python.  Valid indicies are 0, 1, 2\n",
      "print len(l)\n",
      "print l\n",
      "print l[0],l[1],l[2]\n",
      "#Negative indicies allows you to go in reverse order\n",
      "print l[-1]\n",
      "print l[-2]\n",
      "print l[-3]"
     ],
     "language": "python",
     "metadata": {},
     "outputs": [
      {
       "output_type": "stream",
       "stream": "stdout",
       "text": [
        "<type 'list'>\n",
        "3\n",
        "[0.1, 0.2, 0.3]\n",
        "0.1 0.2 0.3\n",
        "0.3\n",
        "0.2\n",
        "0.1\n"
       ]
      }
     ],
     "prompt_number": 45
    },
    {
     "cell_type": "code",
     "collapsed": false,
     "input": [
      "print l[-4]"
     ],
     "language": "python",
     "metadata": {},
     "outputs": [
      {
       "ename": "IndexError",
       "evalue": "list index out of range",
       "output_type": "pyerr",
       "traceback": [
        "\u001b[0;31m---------------------------------------------------------------------------\u001b[0m\n\u001b[0;31mIndexError\u001b[0m                                Traceback (most recent call last)",
        "\u001b[0;32m<ipython-input-43-e2343381545e>\u001b[0m in \u001b[0;36m<module>\u001b[0;34m()\u001b[0m\n\u001b[0;32m----> 1\u001b[0;31m \u001b[0;32mprint\u001b[0m \u001b[0ml\u001b[0m\u001b[0;34m[\u001b[0m\u001b[0;34m-\u001b[0m\u001b[0;36m4\u001b[0m\u001b[0;34m]\u001b[0m\u001b[0;34m\u001b[0m\u001b[0m\n\u001b[0m",
        "\u001b[0;31mIndexError\u001b[0m: list index out of range"
       ]
      }
     ],
     "prompt_number": 43
    },
    {
     "cell_type": "code",
     "collapsed": false,
     "input": [
      "range(10)\n",
      "#range is a list of integers smaller than the number you give it"
     ],
     "language": "python",
     "metadata": {},
     "outputs": [
      {
       "metadata": {},
       "output_type": "pyout",
       "prompt_number": 48,
       "text": [
        "[0, 1, 2, 3, 4, 5, 6, 7, 8, 9]"
       ]
      }
     ],
     "prompt_number": 48
    },
    {
     "cell_type": "code",
     "collapsed": false,
     "input": [
      "type(range(10))"
     ],
     "language": "python",
     "metadata": {},
     "outputs": [
      {
       "metadata": {},
       "output_type": "pyout",
       "prompt_number": 49,
       "text": [
        "list"
       ]
      }
     ],
     "prompt_number": 49
    },
    {
     "cell_type": "code",
     "collapsed": false,
     "input": [
      "#You can skip numbers by set increments\n",
      "range(8,40,2)"
     ],
     "language": "python",
     "metadata": {},
     "outputs": [
      {
       "metadata": {},
       "output_type": "pyout",
       "prompt_number": 51,
       "text": [
        "[8, 10, 12, 14, 16, 18, 20, 22, 24, 26, 28, 30, 32, 34, 36, 38]"
       ]
      }
     ],
     "prompt_number": 51
    },
    {
     "cell_type": "code",
     "collapsed": false,
     "input": [
      "#you can initialize lists in this way\n",
      "\n",
      "l = [i**2 for i in range(20)]\n",
      "print l\n"
     ],
     "language": "python",
     "metadata": {},
     "outputs": [
      {
       "output_type": "stream",
       "stream": "stdout",
       "text": [
        "[0, 1, 4, 9, 16, 25, 36, 49, 64, 81, 100, 121, 144, 169, 196, 225, 256, 289, 324, 361]\n"
       ]
      }
     ],
     "prompt_number": 53
    },
    {
     "cell_type": "code",
     "collapsed": false,
     "input": [
      "# you can initialize a list starting from another list\n",
      "\n",
      "l1 = [i**0.3 for i in l]\n",
      "print l1"
     ],
     "language": "python",
     "metadata": {},
     "outputs": [
      {
       "output_type": "stream",
       "stream": "stdout",
       "text": [
        "[0.0, 1.0, 1.515716566510398, 1.9331820449317627, 2.2973967099940698, 2.626527804403767, 2.930156051583521, 3.2140958497160383, 3.4822022531844965, 3.7371928188465517, 3.9810717055349722, 4.2153691330919, 4.44128606984584, 4.659786420036066, 4.871658325766914, 5.077556391987407, 5.278031643091577, 5.473553316918489, 5.664525067769412, 5.851297242409216]\n"
       ]
      }
     ],
     "prompt_number": 54
    },
    {
     "cell_type": "code",
     "collapsed": false,
     "input": [
      "#the \"for\" keyword says that you have to perform a certain operation for some variable being present in a certain list\n",
      "#the below code is equivalent to above but uses the \"for\" keyword\n",
      "l1 = []\n",
      "for i in l:\n",
      "    l1.append(i**0.3)\n",
      "print l1\n",
      "\n",
      "#what is append? Basically, python is an object oriented language.  Python variables are generally classes\n",
      "# there are certain functions called methods that apply only to them.  Append is a method for any list (not even strings!)"
     ],
     "language": "python",
     "metadata": {},
     "outputs": [
      {
       "output_type": "stream",
       "stream": "stdout",
       "text": [
        "[0.0, 1.0, 1.515716566510398, 1.9331820449317627, 2.2973967099940698, 2.626527804403767, 2.930156051583521, 3.2140958497160383, 3.4822022531844965, 3.7371928188465517, 3.9810717055349722, 4.2153691330919, 4.44128606984584, 4.659786420036066, 4.871658325766914, 5.077556391987407, 5.278031643091577, 5.473553316918489, 5.664525067769412, 5.851297242409216]\n"
       ]
      }
     ],
     "prompt_number": 57
    },
    {
     "cell_type": "code",
     "collapsed": false,
     "input": [
      "l = 'bla'\n",
      "l.append('h')"
     ],
     "language": "python",
     "metadata": {},
     "outputs": [
      {
       "ename": "AttributeError",
       "evalue": "'str' object has no attribute 'append'",
       "output_type": "pyerr",
       "traceback": [
        "\u001b[0;31m---------------------------------------------------------------------------\u001b[0m\n\u001b[0;31mAttributeError\u001b[0m                            Traceback (most recent call last)",
        "\u001b[0;32m<ipython-input-58-8458b6d6b22a>\u001b[0m in \u001b[0;36m<module>\u001b[0;34m()\u001b[0m\n\u001b[1;32m      1\u001b[0m \u001b[0ml\u001b[0m \u001b[0;34m=\u001b[0m \u001b[0;34m'bla'\u001b[0m\u001b[0;34m\u001b[0m\u001b[0m\n\u001b[0;32m----> 2\u001b[0;31m \u001b[0ml\u001b[0m\u001b[0;34m.\u001b[0m\u001b[0mappend\u001b[0m\u001b[0;34m(\u001b[0m\u001b[0;34m'h'\u001b[0m\u001b[0;34m)\u001b[0m\u001b[0;34m\u001b[0m\u001b[0m\n\u001b[0m",
        "\u001b[0;31mAttributeError\u001b[0m: 'str' object has no attribute 'append'"
       ]
      }
     ],
     "prompt_number": 58
    },
    {
     "cell_type": "code",
     "collapsed": false,
     "input": [
      "l = list('bla')\n",
      "print l\n",
      "l.append('h')\n",
      "s = ''\n",
      "for c in l:\n",
      "    s+= c\n",
      "print s"
     ],
     "language": "python",
     "metadata": {},
     "outputs": [
      {
       "output_type": "stream",
       "stream": "stdout",
       "text": [
        "['b', 'l', 'a']\n",
        "blah\n"
       ]
      }
     ],
     "prompt_number": 60
    },
    {
     "cell_type": "code",
     "collapsed": false,
     "input": [
      "help(l)"
     ],
     "language": "python",
     "metadata": {},
     "outputs": [
      {
       "output_type": "stream",
       "stream": "stdout",
       "text": [
        "Help on list object:\n",
        "\n",
        "class list(object)\n",
        " |  list() -> new empty list\n",
        " |  list(iterable) -> new list initialized from iterable's items\n",
        " |  \n",
        " |  Methods defined here:\n",
        " |  \n",
        " |  __add__(...)\n",
        " |      x.__add__(y) <==> x+y\n",
        " |  \n",
        " |  __contains__(...)\n",
        " |      x.__contains__(y) <==> y in x\n",
        " |  \n",
        " |  __delitem__(...)\n",
        " |      x.__delitem__(y) <==> del x[y]\n",
        " |  \n",
        " |  __delslice__(...)\n",
        " |      x.__delslice__(i, j) <==> del x[i:j]\n",
        " |      \n",
        " |      Use of negative indices is not supported.\n",
        " |  \n",
        " |  __eq__(...)\n",
        " |      x.__eq__(y) <==> x==y\n",
        " |  \n",
        " |  __ge__(...)\n",
        " |      x.__ge__(y) <==> x>=y\n",
        " |  \n",
        " |  __getattribute__(...)\n",
        " |      x.__getattribute__('name') <==> x.name\n",
        " |  \n",
        " |  __getitem__(...)\n",
        " |      x.__getitem__(y) <==> x[y]\n",
        " |  \n",
        " |  __getslice__(...)\n",
        " |      x.__getslice__(i, j) <==> x[i:j]\n",
        " |      \n",
        " |      Use of negative indices is not supported.\n",
        " |  \n",
        " |  __gt__(...)\n",
        " |      x.__gt__(y) <==> x>y\n",
        " |  \n",
        " |  __iadd__(...)\n",
        " |      x.__iadd__(y) <==> x+=y\n",
        " |  \n",
        " |  __imul__(...)\n",
        " |      x.__imul__(y) <==> x*=y\n",
        " |  \n",
        " |  __init__(...)\n",
        " |      x.__init__(...) initializes x; see help(type(x)) for signature\n",
        " |  \n",
        " |  __iter__(...)\n",
        " |      x.__iter__() <==> iter(x)\n",
        " |  \n",
        " |  __le__(...)\n",
        " |      x.__le__(y) <==> x<=y\n",
        " |  \n",
        " |  __len__(...)\n",
        " |      x.__len__() <==> len(x)\n",
        " |  \n",
        " |  __lt__(...)\n",
        " |      x.__lt__(y) <==> x<y\n",
        " |  \n",
        " |  __mul__(...)\n",
        " |      x.__mul__(n) <==> x*n\n",
        " |  \n",
        " |  __ne__(...)\n",
        " |      x.__ne__(y) <==> x!=y\n",
        " |  \n",
        " |  __repr__(...)\n",
        " |      x.__repr__() <==> repr(x)\n",
        " |  \n",
        " |  __reversed__(...)\n",
        " |      L.__reversed__() -- return a reverse iterator over the list\n",
        " |  \n",
        " |  __rmul__(...)\n",
        " |      x.__rmul__(n) <==> n*x\n",
        " |  \n",
        " |  __setitem__(...)\n",
        " |      x.__setitem__(i, y) <==> x[i]=y\n",
        " |  \n",
        " |  __setslice__(...)\n",
        " |      x.__setslice__(i, j, y) <==> x[i:j]=y\n",
        " |      \n",
        " |      Use  of negative indices is not supported.\n",
        " |  \n",
        " |  __sizeof__(...)\n",
        " |      L.__sizeof__() -- size of L in memory, in bytes\n",
        " |  \n",
        " |  append(...)\n",
        " |      L.append(object) -- append object to end\n",
        " |  \n",
        " |  count(...)\n",
        " |      L.count(value) -> integer -- return number of occurrences of value\n",
        " |  \n",
        " |  extend(...)\n",
        " |      L.extend(iterable) -- extend list by appending elements from the iterable\n",
        " |  \n",
        " |  index(...)\n",
        " |      L.index(value, [start, [stop]]) -> integer -- return first index of value.\n",
        " |      Raises ValueError if the value is not present.\n",
        " |  \n",
        " |  insert(...)\n",
        " |      L.insert(index, object) -- insert object before index\n",
        " |  \n",
        " |  pop(...)\n",
        " |      L.pop([index]) -> item -- remove and return item at index (default last).\n",
        " |      Raises IndexError if list is empty or index is out of range.\n",
        " |  \n",
        " |  remove(...)\n",
        " |      L.remove(value) -- remove first occurrence of value.\n",
        " |      Raises ValueError if the value is not present.\n",
        " |  \n",
        " |  reverse(...)\n",
        " |      L.reverse() -- reverse *IN PLACE*\n",
        " |  \n",
        " |  sort(...)\n",
        " |      L.sort(cmp=None, key=None, reverse=False) -- stable sort *IN PLACE*;\n",
        " |      cmp(x, y) -> -1, 0, 1\n",
        " |  \n",
        " |  ----------------------------------------------------------------------\n",
        " |  Data and other attributes defined here:\n",
        " |  \n",
        " |  __hash__ = None\n",
        " |  \n",
        " |  __new__ = <built-in method __new__ of type object>\n",
        " |      T.__new__(S, ...) -> a new object with type S, a subtype of T\n",
        "\n"
       ]
      }
     ],
     "prompt_number": 61
    },
    {
     "cell_type": "code",
     "collapsed": false,
     "input": [
      "l1 = [1,2,3,4]\n",
      "l2 = [2,3,1,6]\n",
      "#to concatinate lists with no sortings, we do\n",
      "print l1+l2"
     ],
     "language": "python",
     "metadata": {},
     "outputs": [
      {
       "output_type": "stream",
       "stream": "stdout",
       "text": [
        "[1, 2, 3, 4, 2, 3, 1, 6]\n"
       ]
      }
     ],
     "prompt_number": 62
    },
    {
     "cell_type": "code",
     "collapsed": false,
     "input": [
      "print l1[1:2]"
     ],
     "language": "python",
     "metadata": {},
     "outputs": [
      {
       "output_type": "stream",
       "stream": "stdout",
       "text": [
        "[2]\n"
       ]
      }
     ],
     "prompt_number": 64
    },
    {
     "cell_type": "code",
     "collapsed": false,
     "input": [
      "print l1[1:3]"
     ],
     "language": "python",
     "metadata": {},
     "outputs": [
      {
       "output_type": "stream",
       "stream": "stdout",
       "text": [
        "[2, 3]\n"
       ]
      }
     ],
     "prompt_number": 65
    },
    {
     "cell_type": "code",
     "collapsed": false,
     "input": [
      "# for loop\n",
      "for i in range(10):\n",
      "    print '1 inside loop, counter is {0}, squared counter is {1}'.format(i,i**2)\n",
      "    i+=1\n",
      "    print '2 inside loop, counter is {0}, squared counter is {1}'.format(i,i**2)\n",
      "print 'outside loop'"
     ],
     "language": "python",
     "metadata": {},
     "outputs": [
      {
       "output_type": "stream",
       "stream": "stdout",
       "text": [
        "1 inside loop, counter is 0, squared counter is 0\n",
        "2 inside loop, counter is 1, squared counter is 1\n",
        "1 inside loop, counter is 1, squared counter is 1\n",
        "2 inside loop, counter is 2, squared counter is 4\n",
        "1 inside loop, counter is 2, squared counter is 4\n",
        "2 inside loop, counter is 3, squared counter is 9\n",
        "1 inside loop, counter is 3, squared counter is 9\n",
        "2 inside loop, counter is 4, squared counter is 16\n",
        "1 inside loop, counter is 4, squared counter is 16\n",
        "2 inside loop, counter is 5, squared counter is 25\n",
        "1 inside loop, counter is 5, squared counter is 25\n",
        "2 inside loop, counter is 6, squared counter is 36\n",
        "1 inside loop, counter is 6, squared counter is 36\n",
        "2 inside loop, counter is 7, squared counter is 49\n",
        "1 inside loop, counter is 7, squared counter is 49\n",
        "2 inside loop, counter is 8, squared counter is 64\n",
        "1 inside loop, counter is 8, squared counter is 64\n",
        "2 inside loop, counter is 9, squared counter is 81\n",
        "1 inside loop, counter is 9, squared counter is 81\n",
        "2 inside loop, counter is 10, squared counter is 100\n",
        "outside loop\n"
       ]
      }
     ],
     "prompt_number": 76
    },
    {
     "cell_type": "code",
     "collapsed": false,
     "input": [
      "i = 0\n",
      "while (i < 10):\n",
      "    print 'l insider loop, counter is {0}, squared counter is {1}'.format(i, i**2)\n",
      "    i += 2\n",
      "    print '2 insider loop, counter is {0}, squared counter is {1}'.format(i, i**2)"
     ],
     "language": "python",
     "metadata": {},
     "outputs": [
      {
       "output_type": "stream",
       "stream": "stdout",
       "text": [
        "l insider loop, counter is 0, squared counter is 0\n",
        "2 insider loop, counter is 2, squared counter is 4\n",
        "l insider loop, counter is 2, squared counter is 4\n",
        "2 insider loop, counter is 4, squared counter is 16\n",
        "l insider loop, counter is 4, squared counter is 16\n",
        "2 insider loop, counter is 6, squared counter is 36\n",
        "l insider loop, counter is 6, squared counter is 36\n",
        "2 insider loop, counter is 8, squared counter is 64\n",
        "l insider loop, counter is 8, squared counter is 64\n",
        "2 insider loop, counter is 10, squared counter is 100\n"
       ]
      }
     ],
     "prompt_number": 77
    },
    {
     "cell_type": "code",
     "collapsed": false,
     "input": [
      "def square(x):\n",
      "    return x*x\n",
      "\n",
      "def Cube(x):\n",
      "    return x*x*x"
     ],
     "language": "python",
     "metadata": {},
     "outputs": [],
     "prompt_number": 79
    },
    {
     "cell_type": "code",
     "collapsed": false,
     "input": [
      "square(31)"
     ],
     "language": "python",
     "metadata": {},
     "outputs": [
      {
       "metadata": {},
       "output_type": "pyout",
       "prompt_number": 80,
       "text": [
        "961"
       ]
      }
     ],
     "prompt_number": 80
    },
    {
     "cell_type": "code",
     "collapsed": false,
     "input": [
      "Cube(39)"
     ],
     "language": "python",
     "metadata": {},
     "outputs": [
      {
       "metadata": {},
       "output_type": "pyout",
       "prompt_number": 82,
       "text": [
        "59319"
       ]
      }
     ],
     "prompt_number": 82
    },
    {
     "cell_type": "code",
     "collapsed": false,
     "input": [
      "def gcd(n,m):\n",
      "    while (not n==0):\n",
      "        l = n\n",
      "        n = m % n\n",
      "        m = l\n",
      "    return m"
     ],
     "language": "python",
     "metadata": {},
     "outputs": [],
     "prompt_number": 83
    },
    {
     "cell_type": "code",
     "collapsed": false,
     "input": [],
     "language": "python",
     "metadata": {},
     "outputs": []
    }
   ],
   "metadata": {}
  }
 ]
}