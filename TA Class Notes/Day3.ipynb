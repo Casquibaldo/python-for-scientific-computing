{
 "metadata": {
  "name": "",
  "signature": "sha256:fce48a84c1cb72b4c1fb21579566ea769df88cf921aab4287c181f996a083da7"
 },
 "nbformat": 3,
 "nbformat_minor": 0,
 "worksheets": [
  {
   "cells": [
    {
     "cell_type": "code",
     "collapsed": false,
     "input": [
      "class vector:\n",
      "    def __init__(self, a, b):\n",
      "        self.x = a\n",
      "        self.y = b\n",
      "        return None\n",
      "\n",
      "    def __add__(self, v):\n",
      "        bla = vector(self.x + v.x, self.y + v.y)\n",
      "        return bla"
     ],
     "language": "python",
     "metadata": {},
     "outputs": [],
     "prompt_number": 8
    },
    {
     "cell_type": "code",
     "collapsed": false,
     "input": [
      "a = vector(1.1, 4.3)\n",
      "b = vector(4.2,9.4352)\n",
      "c = a + b #calling the add method, self is a and v is b.  it creates a new vector object.\n",
      "print (c.x, c.y)"
     ],
     "language": "python",
     "metadata": {},
     "outputs": [
      {
       "output_type": "stream",
       "stream": "stdout",
       "text": [
        "(5.300000000000001, 13.735199999999999)\n"
       ]
      }
     ],
     "prompt_number": 13
    },
    {
     "cell_type": "heading",
     "level": 1,
     "metadata": {},
     "source": [
      "Arrays"
     ]
    },
    {
     "cell_type": "markdown",
     "metadata": {},
     "source": [
      "\\begin{equation*}\n",
      "A = \\left(\\begin{matrix}\n",
      "1 & 2 & 3 \\\\\n",
      "4 & 5 & 6 \\\\\n",
      "7 & 8 & 9\n",
      "\\end{matrix}\\right) = \n",
      "\\left(\\begin{matrix}\n",
      "a_{1,1} & a_{1,2} & a_{1,3} \\\\\n",
      "a_{2,1} & a_{2,2} & a_{2,3} \\\\\n",
      "a_{3,1} & a_{3,2} & a_{3,3} \n",
      "\\end{matrix}\\right)\n",
      "\\end{equation*}\n",
      "\n",
      "This is a two-dimensional array because we can uniquely label the elements of the matrix by two numbers $i,j$ via the identification $a_{i,j}$.  "
     ]
    },
    {
     "cell_type": "code",
     "collapsed": false,
     "input": [
      "import numpy as np\n",
      "\n",
      "a = np.zeros((3,3), dtype = np.float)\n",
      "b = np.ones((3,3), dtype = np.int)\n",
      "I = np.array([[1,0,0],\n",
      "              [0,1,0],\n",
      "              [0,0,1]])\n",
      "c = I*2*b\n",
      "print a, type(a)\n",
      "print b, type(b)\n",
      "print c, type(I)"
     ],
     "language": "python",
     "metadata": {},
     "outputs": [
      {
       "output_type": "stream",
       "stream": "stdout",
       "text": [
        "[[ 0.  0.  0.]\n",
        " [ 0.  0.  0.]\n",
        " [ 0.  0.  0.]] <type 'numpy.ndarray'>\n",
        "[[1 1 1]\n",
        " [1 1 1]\n",
        " [1 1 1]] <type 'numpy.ndarray'>\n",
        "[[2 0 0]\n",
        " [0 2 0]\n",
        " [0 0 2]] <type 'numpy.ndarray'>\n"
       ]
      }
     ],
     "prompt_number": 57
    },
    {
     "cell_type": "code",
     "collapsed": false,
     "input": [],
     "language": "python",
     "metadata": {},
     "outputs": []
    }
   ],
   "metadata": {}
  }
 ]
}