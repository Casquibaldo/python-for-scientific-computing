{
 "metadata": {
  "name": "",
  "signature": "sha256:8daa85659ada37754718605fb9d2ee428a2ee5e06efc09d82f0d43e53b55c5bf"
 },
 "nbformat": 3,
 "nbformat_minor": 0,
 "worksheets": [
  {
   "cells": [
    {
     "cell_type": "code",
     "collapsed": false,
     "input": [
      "def gcd(a,b):\n",
      "    while b != 0:\n",
      "       t = b\n",
      "       b = a % b\n",
      "       a = t\n",
      "    return a\n",
      "\n",
      "def lcm(a,b):\n",
      "    l = abs(a*b)/gcd(a,b)\n",
      "    return l\n",
      "\n",
      "def pair(a,b):\n",
      "    print(gcd(a,b),lcm(a,b))\n",
      "    \n",
      "pair(15,25)"
     ],
     "language": "python",
     "metadata": {},
     "outputs": [
      {
       "output_type": "stream",
       "stream": "stdout",
       "text": [
        "(5, 75)\n"
       ]
      }
     ],
     "prompt_number": 170
    },
    {
     "cell_type": "code",
     "collapsed": false,
     "input": [
      "string = 'Hello, world'\n",
      "newString = string.replace('o', 'X')\n",
      "print string\n",
      "print newString"
     ],
     "language": "python",
     "metadata": {},
     "outputs": [
      {
       "output_type": "stream",
       "stream": "stdout",
       "text": [
        "Hello, world\n",
        "HellX, wXrld\n"
       ]
      }
     ],
     "prompt_number": 40
    },
    {
     "cell_type": "code",
     "collapsed": false,
     "input": [
      "rabbits, bunnies = (1, 1)\n",
      "while bunnies < 100:\n",
      "    print 'This generation has {0} bunnies'.format(bunnies)\n",
      "    bunnies, rabbits = (rabbits, rabbits + bunnies)"
     ],
     "language": "python",
     "metadata": {},
     "outputs": [
      {
       "output_type": "stream",
       "stream": "stdout",
       "text": [
        "This generation has 1 bunnies\n",
        "This generation has 1 bunnies\n",
        "This generation has 2 bunnies\n",
        "This generation has 3 bunnies\n",
        "This generation has 5 bunnies\n",
        "This generation has 8 bunnies\n",
        "This generation has 13 bunnies\n",
        "This generation has 21 bunnies\n",
        "This generation has 34 bunnies\n",
        "This generation has 55 bunnies\n",
        "This generation has 89 bunnies\n"
       ]
      }
     ],
     "prompt_number": 46
    },
    {
     "cell_type": "code",
     "collapsed": false,
     "input": [
      "def factorial(p):\n",
      "    if p == 0:\n",
      "        return 1\n",
      "    return p * factorial(p-1)\n",
      "\n",
      "def dumb_algorith_is_p_prime(p):\n",
      "    if factorial(p - 1) % p == -1 % p:\n",
      "        return True\n",
      "    return False\n",
      "\n",
      "dumb_algorith_is_p_prime(17)"
     ],
     "language": "python",
     "metadata": {},
     "outputs": [
      {
       "metadata": {},
       "output_type": "pyout",
       "prompt_number": 171,
       "text": [
        "True"
       ]
      }
     ],
     "prompt_number": 171
    },
    {
     "cell_type": "code",
     "collapsed": false,
     "input": [
      "def enumeratePrimesBelow(n):\n",
      "    candidates = set(range(2,n+1))\n",
      "    for i in range(2,int(n**(1/2.))+1,1):\n",
      "        for num in candidates.copy():\n",
      "            if num == i:\n",
      "                continue\n",
      "            if num%i == 0:\n",
      "                candidates.remove(num)\n",
      "    return candidates\n",
      "\n",
      "def isNumberPrime(n):\n",
      "    return n in enumeratePrimesBelow(n)\n",
      "\n",
      "isNumberPrime(17)"
     ],
     "language": "python",
     "metadata": {},
     "outputs": [
      {
       "metadata": {},
       "output_type": "pyout",
       "prompt_number": 33,
       "text": [
        "True"
       ]
      }
     ],
     "prompt_number": 33
    },
    {
     "cell_type": "code",
     "collapsed": false,
     "input": [
      "#when c is very small, loss of significance can occur in either of the root calculations depending on the sign of b\n",
      "#a = 1, b=200, c = -0.000015\n",
      "import numpy as np\n",
      "\n",
      "def SolveQuadratic(a = 1, b = 200, c = -0.000015):\n",
      "    Root1 = (-b + (b**2 - 4*a*c)**(.5))/2*a\n",
      "    Root2 = (-b - (b**2 - 4*a*c)**(.5))/2*a\n",
      "    return Root1, Root2\n",
      "x0, x1 = SolveQuadratic(\n",
      "    a = np.array([1]).astype(np.float32),\n",
      "               b = np.array([200]).astype(np.float32),\n",
      "               c = np.array([-0.000015]).astype(np.float32))"
     ],
     "language": "python",
     "metadata": {},
     "outputs": [],
     "prompt_number": 34
    },
    {
     "cell_type": "code",
     "collapsed": false,
     "input": [
      "print'{0:.16}'.format(x0[0])\n",
      "print'{0:.16}'.format(x1[0])"
     ],
     "language": "python",
     "metadata": {},
     "outputs": [
      {
       "output_type": "stream",
       "stream": "stdout",
       "text": [
        "0.0\n",
        "-200.0\n"
       ]
      }
     ],
     "prompt_number": 13
    },
    {
     "cell_type": "code",
     "collapsed": false,
     "input": [
      "x0, x1 = SolveQuadratic(\n",
      "    a = 1,\n",
      "    b = 200,\n",
      "    c = -0.000015)\n",
      "print x0, x1"
     ],
     "language": "python",
     "metadata": {},
     "outputs": [
      {
       "output_type": "stream",
       "stream": "stdout",
       "text": [
        "7.50000026528e-08 -200.000000075\n"
       ]
      }
     ],
     "prompt_number": 3
    },
    {
     "cell_type": "code",
     "collapsed": false,
     "input": [
      "def getDeterminant(M):\n",
      "    detM = (M[0][0]*(M[1][1]*M[2][2] - M[2][1]*M[1][2]) -\n",
      "            M[1][0]*(M[0][1]*M[2][2] - M[0][2]*M[2][1]) +\n",
      "            M[2][0]*(M[0][1]*M[1][2] - M[0][2]*M[1][1]))\n",
      "    return detM\n",
      "    \n",
      "def area1(x,y,z):\n",
      "    x = x + [1]\n",
      "    y = y + [1]\n",
      "    z = z + [1]\n",
      "    detM = getDeterminant([x,y,z])\n",
      "    areaofTriangle1 = 1/2.*abs(detM)\n",
      "    return areaofTriangle1\n",
      "\n",
      "def area(x,y,z):\n",
      "    areaofTriangle = 1/2.*abs(((x[0]-z[0])*(y[1]-z[1])-(y[0]-z[0])*(x[1]-z[1])))\n",
      "    return areaofTriangle\n",
      "\n",
      "print area([2,2],[3,-3],[4,4])\n",
      "print area1([2,2],[3,-3],[4,4])"
     ],
     "language": "python",
     "metadata": {},
     "outputs": [
      {
       "output_type": "stream",
       "stream": "stdout",
       "text": [
        "6.0\n",
        "6.0\n"
       ]
      }
     ],
     "prompt_number": 39
    },
    {
     "cell_type": "code",
     "collapsed": false,
     "input": [],
     "language": "python",
     "metadata": {},
     "outputs": [],
     "prompt_number": 35
    },
    {
     "cell_type": "code",
     "collapsed": false,
     "input": [],
     "language": "python",
     "metadata": {},
     "outputs": []
    }
   ],
   "metadata": {}
  }
 ]
}