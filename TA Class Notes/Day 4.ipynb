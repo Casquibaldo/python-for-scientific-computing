{
 "metadata": {
  "name": "",
  "signature": "sha256:300447655a731de1ecdd78d688335f2348e0be682a5eddae3ae081fea13dd33d"
 },
 "nbformat": 3,
 "nbformat_minor": 0,
 "worksheets": [
  {
   "cells": [
    {
     "cell_type": "heading",
     "level": 1,
     "metadata": {},
     "source": [
      "Root Finding"
     ]
    },
    {
     "cell_type": "code",
     "collapsed": false,
     "input": [
      "%matplotlib inline\n",
      "import numpy as np\n",
      "import matplotlib.pyplot as plt\n",
      "\n",
      "\n",
      "def func(x):\n",
      "    return x**2-2.**0.3\n",
      "\n",
      "ax = plt.figure(figsize = (6,6)).add_subplot(111)\n",
      "x = np.linspace(-.5, 2, 2**8)\n",
      "ax.plot(x, func(x))\n",
      "ax.plot(x, x - x, color = 'black', dashes = (1,1))"
     ],
     "language": "python",
     "metadata": {},
     "outputs": [
      {
       "metadata": {},
       "output_type": "pyout",
       "prompt_number": 34,
       "text": [
        "[<matplotlib.lines.Line2D at 0x10f093cd0>]"
       ]
      },
      {
       "metadata": {},
       "output_type": "display_data",
       "png": "[encoded data removed]",
       "text": [
        "<matplotlib.figure.Figure at 0x10e3b5b50>"
       ]
      }
     ],
     "prompt_number": 34
    },
    {
     "cell_type": "code",
     "collapsed": false,
     "input": [
      "class root_finder:\n",
      "    def __init__(self, f, epsilon):\n",
      "        self.f = f\n",
      "        self.e = epsilon\n",
      "        return None\n",
      "    def bisect(self, a, b):\n",
      "        fa = self.f(a)\n",
      "        fb = self.f(b)\n",
      "        if fa*fb >= 0:\n",
      "            return a\n",
      "        c = (a+b)*(0.5)\n",
      "        i=0\n",
      "        while(abs(b - c) >= self.e):\n",
      "            fc = self.f(c)\n",
      "            if  (fc*fb<=0):\n",
      "                a = c\n",
      "            else:\n",
      "                b=c\n",
      "            c = (a+b)*(0.5)\n",
      "            i=i+1\n",
      "        print 'in bisect there were {0} loops'.format(i)\n",
      "        return c\n",
      "    def secant(self, a, b):\n",
      "        fa = self.f(a)\n",
      "        fb = self.f(b)\n",
      "        if fa*fb >= 0:\n",
      "            return a\n",
      "        c0 = a\n",
      "        c1 = b\n",
      "        c = (a+b)*.5\n",
      "        i = 0\n",
      "        while(abs(b - a) >= self.e):\n",
      "            fc = self.f(c)\n",
      "            c = c - fc*(c0 - c1)/(self.f(c0) - self.f(c1))\n",
      "            if  (fc*fb<=0):\n",
      "                a = c\n",
      "            else:\n",
      "                b = c\n",
      "            c0 = c1\n",
      "            c1 = c\n",
      "            i=i+1\n",
      "        print 'in secant there were {0} loops'.format(i)\n",
      "        return c\n",
      "\n",
      "\n",
      "a = root_finder(func,0.001)\n",
      "b = root_finder(func, 0.0001)\n",
      "c0 = a.bisect(0,3)\n",
      "c1 = b.bisect(0,3)\n",
      "c2 = a.secant(0,3)\n",
      "c3 = b.secant(0,3)\n",
      "print c0, c1, c2, c3\n",
      "print func(c0), func(c1), func(c2), func(c3)"
     ],
     "language": "python",
     "metadata": {},
     "outputs": [
      {
       "output_type": "stream",
       "stream": "stdout",
       "text": [
        "in bisect there were 11 loops\n",
        "in bisect there were 14 loops\n",
        "in secant there were 8 loops\n",
        "in secant there were 8 loops\n",
        "1.10961914062 1.10952758789 1.10956947207 1.10956947207\n",
        "0.000110223896447 -9.29450545277e-05 0.0 0.0\n"
       ]
      }
     ],
     "prompt_number": 77
    },
    {
     "cell_type": "code",
     "collapsed": false,
     "input": [
      "%matplotlib inline\n",
      "import numpy as np\n",
      "import matplotlib.pyplot as plt\n",
      "\n",
      "\n",
      "def func(x):\n",
      "    return x**2-2.**0.3\n",
      "\n",
      "ax = plt.figure(figsize = (6,6)).add_subplot(111)\n",
      "x = np.linspace(-.5, 2, 2**8)\n",
      "ax.plot(x, func(x))\n",
      "ax.plot(x, x - x, color = 'black', dashes = (1,1))\n",
      "ax.plot(np.ones(x.shape,x.dtype)*c0, func(x), color = 'magenta')\n",
      "ax.plot(np.ones(x.shape,x.dtype)*c1, func(x), color = 'cyan')"
     ],
     "language": "python",
     "metadata": {},
     "outputs": [
      {
       "metadata": {},
       "output_type": "pyout",
       "prompt_number": 60,
       "text": [
        "[<matplotlib.lines.Line2D at 0x10fa9e490>]"
       ]
      },
      {
       "metadata": {},
       "output_type": "display_data",
       "png": "[encoded data removed]",
       "text": [
        "<matplotlib.figure.Figure at 0x10d294f10>"
       ]
      }
     ],
     "prompt_number": 60
    },
    {
     "cell_type": "code",
     "collapsed": false,
     "input": [],
     "language": "python",
     "metadata": {},
     "outputs": []
    }
   ],
   "metadata": {}
  }
 ]
}