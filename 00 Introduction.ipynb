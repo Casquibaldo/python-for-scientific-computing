{
 "metadata": {
  "name": "",
  "signature": "sha256:6a899fddf6cac7699730dec873021460092d3c10b6b9023c2261d5c030e00a9e"
 },
 "nbformat": 3,
 "nbformat_minor": 0,
 "worksheets": [
  {
   "cells": [
    {
     "cell_type": "markdown",
     "metadata": {},
     "source": [
      "Python for Scientific Computing\n",
      "===============================\n",
      "\n",
      "\n",
      "Python\n",
      "------\n",
      "\n",
      "Programming language, named Python because the creator liked Monty Python.\n",
      "See https://www.python.org/ for details.\n",
      "\n",
      "\n",
      "Scientific Computing\n",
      "--------------------\n",
      "\n",
      "It's complicated.\n",
      "There's data analysis, which can be clearly linked to experimentalists (for fun, take a look at this page https://en.wikipedia.org/wiki/Graph_paper).\n",
      "There are numerical simulations, which can be clearly linked to theoreticians.\n",
      "There's modeling, which can be linked to both.\n",
      "And then there are numerical simulations of models, and analysis of data coming from these, etc.\n",
      "\n",
      "**Some online resources:**\n",
      "\n",
      "http://learnpythonthehardway.org/book/\n",
      "\n",
      "http://nbviewer.ipython.org/github/jrjohansson/scientific-python-lectures/blob/master/Lecture-0-Scientific-Computing-with-Python.ipynb\n",
      "\n",
      "https://github.com/jrjohansson/scientific-python-lectures\n",
      "\n",
      "https://scipy-lectures.github.io/\n",
      "\n",
      "https://github.com/scipy-lectures/scipy-lecture-notes"
     ]
    },
    {
     "cell_type": "code",
     "collapsed": false,
     "input": [
      "# this is a code box, and this particular line is a comment\n",
      "# comments start with '#', and they are, in essence, text present in\n",
      "# source code that is ignored by the computer\n",
      "\n",
      "# the following will print out \"hello world\":\n",
      "print 'hello world'"
     ],
     "language": "python",
     "metadata": {},
     "outputs": [
      {
       "output_type": "stream",
       "stream": "stdout",
       "text": [
        "hello world\n"
       ]
      }
     ],
     "prompt_number": 1
    },
    {
     "cell_type": "markdown",
     "metadata": {},
     "source": [
      "*print* is a key word, i.e. python will know that whatever follows a *print*\n",
      "statement needs to be put on the screen in some way. depending on the particular\n",
      "type of the object, this can mean various types of outputs.\n",
      "*'hello world'* is a string, i.e. text. Strings can be denoted in Python in different ways:"
     ]
    },
    {
     "cell_type": "code",
     "collapsed": false,
     "input": [
      "print 'hello world'\n",
      "print \"hello world\"\n",
      "print \"\"\"hello world\"\"\""
     ],
     "language": "python",
     "metadata": {},
     "outputs": [
      {
       "output_type": "stream",
       "stream": "stdout",
       "text": [
        "hello world\n",
        "hello world\n",
        "hello world\n"
       ]
      }
     ],
     "prompt_number": 2
    },
    {
     "cell_type": "code",
     "collapsed": false,
     "input": [
      "print ('strings can be ' +\n",
      "       \"concatenated by using the addition symbol '+'\")"
     ],
     "language": "python",
     "metadata": {},
     "outputs": [
      {
       "output_type": "stream",
       "stream": "stdout",
       "text": [
        "strings can be concatenated by using the addition symbol '+'\n"
       ]
      }
     ],
     "prompt_number": 3
    },
    {
     "cell_type": "code",
     "collapsed": false,
     "input": [
      "print ('and various quotations can be used inside a string if the other ' +\n",
      "       'type of quotation was used in the definition of the string.\\n' +\n",
      "       'new lines are generated with the \"\\\\n\" character')"
     ],
     "language": "python",
     "metadata": {},
     "outputs": [
      {
       "output_type": "stream",
       "stream": "stdout",
       "text": [
        "and various quotations can be used inside a string if the other type of quotation was used in the definition of the string.\n",
        "new lines are generated with the \"\\n\" character\n"
       ]
      }
     ],
     "prompt_number": 5
    },
    {
     "cell_type": "markdown",
     "metadata": {},
     "source": [
      "Programming, in layman's terms, is getting computers to perform various tasks.\n",
      "We accomplish this by feeding algorithms to computers in anambiguous languages.\n",
      "The languages are called \"programming languages\", and the algorithms are sequences of well defined instructions.\n",
      "Algorithms, in general, do work on some sort of \"input data\", thus generating some \"output data\".\n",
      "In particular, the data is accessed through variables.\n",
      "In Python, variables are created by assigning values to them."
     ]
    },
    {
     "cell_type": "code",
     "collapsed": false,
     "input": [
      "x = 1/3\n",
      "print x, type(x)"
     ],
     "language": "python",
     "metadata": {},
     "outputs": [
      {
       "output_type": "stream",
       "stream": "stdout",
       "text": [
        "0 <type 'int'>\n"
       ]
      }
     ],
     "prompt_number": 6
    },
    {
     "cell_type": "code",
     "collapsed": false,
     "input": [
      "x = 1./3\n",
      "print '{0}\\n{1}'.format(x, type(x))"
     ],
     "language": "python",
     "metadata": {},
     "outputs": [
      {
       "output_type": "stream",
       "stream": "stdout",
       "text": [
        "0.333333333333\n",
        "<type 'float'>\n"
       ]
      }
     ],
     "prompt_number": 7
    },
    {
     "cell_type": "markdown",
     "metadata": {},
     "source": [
      "A simple example of an algorithm is the \"greatest common divisor\" algorithm.\n",
      "In general algorithms are simply some particular mathematical construction, since in general programming languages can be viewed as a subset of mathematics."
     ]
    },
    {
     "cell_type": "code",
     "collapsed": false,
     "input": [
      "# initialize 2 variables with some values\n",
      "n = 124\n",
      "m = 36\n",
      "\n",
      "# the while statement tells the computer to check for a condition,\n",
      "# then perform a bunch of operations if the condition is true.\n",
      "# afterwards, the condition is checked again, etc.\n",
      "while (not n == 0):\n",
      "    # the instructions indented to the right of the while statement\n",
      "    # are considered \"the block of the while statement\", and they are\n",
      "    # the ones that will be executed in the loop\n",
      "    l = n\n",
      "    n = m % n\n",
      "    m = l\n",
      "# the while statement has finished here, since I'm no longer indenting.\n",
      "# so we only print the final value of m, which should be the\n",
      "# greatest common divisor\n",
      "print m"
     ],
     "language": "python",
     "metadata": {},
     "outputs": [
      {
       "output_type": "stream",
       "stream": "stdout",
       "text": [
        "4\n"
       ]
      }
     ],
     "prompt_number": 18
    },
    {
     "cell_type": "code",
     "collapsed": false,
     "input": [],
     "language": "python",
     "metadata": {},
     "outputs": []
    }
   ],
   "metadata": {}
  }
 ]
}